{
 "cells": [
  {
   "cell_type": "code",
   "execution_count": 1,
   "metadata": {
    "collapsed": true
   },
   "outputs": [],
   "source": [
    "import json\n",
    "with open('data/index/index.json','r') as repoDat:\n",
    "\n",
    "    repos = json.loads(repoDat.read())\n"
   ]
  },
  {
   "cell_type": "code",
   "execution_count": 2,
   "outputs": [
    {
     "data": {
      "text/plain": "['__class__',\n '__contains__',\n '__delattr__',\n '__delitem__',\n '__dir__',\n '__doc__',\n '__eq__',\n '__format__',\n '__ge__',\n '__getattribute__',\n '__getitem__',\n '__gt__',\n '__hash__',\n '__init__',\n '__init_subclass__',\n '__iter__',\n '__le__',\n '__len__',\n '__lt__',\n '__ne__',\n '__new__',\n '__reduce__',\n '__reduce_ex__',\n '__repr__',\n '__setattr__',\n '__setitem__',\n '__sizeof__',\n '__str__',\n '__subclasshook__',\n 'clear',\n 'copy',\n 'fromkeys',\n 'get',\n 'items',\n 'keys',\n 'pop',\n 'popitem',\n 'setdefault',\n 'update',\n 'values']"
     },
     "execution_count": 2,
     "metadata": {},
     "output_type": "execute_result"
    }
   ],
   "source": [
    "dir(repos)"
   ],
   "metadata": {
    "collapsed": false
   }
  },
  {
   "cell_type": "code",
   "execution_count": 3,
   "outputs": [
    {
     "data": {
      "text/plain": "dict_keys(['repo', 'packages'])"
     },
     "execution_count": 3,
     "metadata": {},
     "output_type": "execute_result"
    }
   ],
   "source": [
    "repos.keys()"
   ],
   "metadata": {
    "collapsed": false
   }
  },
  {
   "cell_type": "code",
   "execution_count": 4,
   "outputs": [
    {
     "name": "stdout",
     "output_type": "stream",
     "text": [
      "An.stop\n",
      "dict_keys(['metadata', 'versions'])\n",
      "2\n",
      "1344556800000\n",
      "{'metadata': {'added': 1309737600000, 'categories': ['Time'], 'issueTracker': 'https://github.com/jdmonin/anstop/issues', 'lastUpdated': 1344556800000, 'license': 'GPL-2.0-only', 'sourceCode': 'https://github.com/jdmonin/anstop', 'name': {'en-US': 'Anstop'}, 'summary': {'cs': 'Jednoduché stopky', 'de': 'Eine einfache Stoppuhr', 'en-US': 'A simple stopwatch', 'eo': 'Simpla temp-mezurilo', 'es': 'Un cronómetro simple', 'fr': 'Un chronomètre simple', 'gd': 'Stad-uaireadair sìmplidh', 'he': 'שעון עצר פשוט', 'id': 'Stopwatch', 'it': 'Un semplice cronometro', 'ja': '質素なストップウォッチ', 'nb': 'Enkel stoppeklokke', 'pl': 'Prosty stoper', 'pt': 'Um simples cronômetro', 'pt-BR': 'Um simples cronômetro', 'pt-PT': 'Um simples cronômetro', 'ro': 'Un cronometru simplu', 'ru': 'Простой секундомер', 'sq': 'Një kronometër i thjeshtë', 'sw': 'Saa ya michezo iliyo sahili', 'tr': 'Basit bir süreölçer (kronometre)', 'uk': 'Простий секундомір', 'zh-CN': '简单的秒表', 'zh-TW': '簡單的秒錶'}, 'description': {'en-US': \"A simple stopwatch, that also supports lap timing and a countdown timer. The\\ncountdown timer doesn't make an alarm so an eye will have to be kept on it.\"}, 'icon': {'en-US': {'name': '/icons/An.stop.10.png', 'sha256': '934816dacabfcf3db0e2e30243bb7605b17c01cedce28f114a9da9cbb97c5cd4', 'size': 4488}}, 'preferredSigner': '1a7974d7d08f0038ee40fbf44a9deeddd0fee8b2cf2df5f6449e869c75ec70fb'}, 'versions': {'78ec7805f5a49b156fbd5f6af174c1cd8ae9900c9c7af2b2df021aca8cd5eae9': {'added': 1344556800000, 'file': {'name': '/An.stop_10.apk', 'sha256': '78ec7805f5a49b156fbd5f6af174c1cd8ae9900c9c7af2b2df021aca8cd5eae9', 'size': 66218}, 'src': {'name': '/An.stop_10_src.tar.gz', 'sha256': 'd489eee14c4693a4aa742c490f2566d2d17170a3977cc04993d96ba4588384c8', 'size': 558337}, 'manifest': {'versionName': '1.5', 'versionCode': 10, 'usesSdk': {'minSdkVersion': 4, 'targetSdkVersion': 4}, 'signer': {'sha256': ['1a7974d7d08f0038ee40fbf44a9deeddd0fee8b2cf2df5f6449e869c75ec70fb']}, 'usesPermission': [{'name': 'android.permission.VIBRATE'}, {'name': 'android.permission.WRITE_EXTERNAL_STORAGE'}, {'name': 'android.permission.READ_EXTERNAL_STORAGE'}]}}, '79f5253bab33cf4030b01fec457fd6ffa4fd54b631ee0bc4c1549fbb69ca6680': {'added': 1309737600000, 'file': {'name': '/An.stop_9.apk', 'sha256': '79f5253bab33cf4030b01fec457fd6ffa4fd54b631ee0bc4c1549fbb69ca6680', 'size': 49763}, 'src': {'name': '/An.stop_9_src.tar.gz', 'sha256': 'af6baad5820f1b86e8aeeec00bd3a46ad929dbae28dd3615e9ef94a555bd309f', 'size': 63674}, 'manifest': {'versionName': '1.4', 'versionCode': 9, 'usesSdk': {'minSdkVersion': 4, 'targetSdkVersion': 4}, 'signer': {'sha256': ['1a7974d7d08f0038ee40fbf44a9deeddd0fee8b2cf2df5f6449e869c75ec70fb']}, 'usesPermission': [{'name': 'android.permission.VIBRATE'}]}}}}\n"
     ]
    }
   ],
   "source": [
    "repoKeys = repos['packages'].keys()\n",
    "\n",
    "for key in repoKeys:\n",
    "    print(key)\n",
    "    current = repos['packages'][key]\n",
    "    print(current.keys())\n",
    "    print(len(current['versions']))\n",
    "    print(current['metadata']['lastUpdated'])\n",
    "    print(current)\n",
    "    break\n"
   ],
   "metadata": {
    "collapsed": false
   }
  },
  {
   "cell_type": "code",
   "execution_count": 5,
   "outputs": [
    {
     "name": "stdout",
     "output_type": "stream",
     "text": [
      "1675099503\n"
     ]
    }
   ],
   "source": [
    "\n",
    "# get current unix timestamp\n",
    "from datetime import datetime\n",
    "import calendar\n",
    "d = datetime.utcnow()\n",
    "unixtime = calendar.timegm(d.utctimetuple())\n",
    "\n",
    "print(unixtime)\n"
   ],
   "metadata": {
    "collapsed": false
   }
  },
  {
   "cell_type": "code",
   "execution_count": 6,
   "outputs": [
    {
     "data": {
      "text/plain": "Text(0.5, 0, 'Years since added')"
     },
     "execution_count": 6,
     "metadata": {},
     "output_type": "execute_result"
    },
    {
     "data": {
      "text/plain": "<Figure size 1080x720 with 4 Axes>",
      "image/png": "[encoded data removed]"
     },
     "metadata": {
      "needs_background": "light"
     },
     "output_type": "display_data"
    }
   ],
   "source": [
    "# histogram showing and plot\n",
    "import numpy as np\n",
    "import matplotlib.pyplot as plt\n",
    "\n",
    "from pylab import rcParams\n",
    "rcParams['figure.figsize'] = 15, 10\n",
    "\n",
    "def secondsToYears(s):\n",
    "    return ((s/60./60)/24.)/365.\n",
    "def yearsSince(ms):\n",
    "    return secondsToYears(unixtime - (ms/1000.))\n",
    "versionList = []\n",
    "lastUpdateList = []\n",
    "addedSinceList = []\n",
    "selected = []\n",
    "for key in repoKeys:\n",
    "    current = repos['packages'][key]\n",
    "    versionCount = len(current['versions'])\n",
    "\n",
    "    lastUpdated = current['metadata']['lastUpdated']\n",
    "    added = current['metadata']['added']\n",
    "    timeSinceUpdate = yearsSince(lastUpdated)\n",
    "    addedSince = yearsSince(added)\n",
    "    addedSinceList.append(addedSince)\n",
    "    timeSinceAdded = yearsSince(added)\n",
    "    lastUpdateList.append(timeSinceUpdate)\n",
    "    versionList.append(versionCount)\n",
    "    if timeSinceUpdate < 2.0 and timeSinceAdded > 8.0:\n",
    "        selected.append((key,current))\n",
    "\n",
    "counts,bins = np.histogram(versionList)\n",
    "fig,axs = plt.subplots(2,2)\n",
    "fig.suptitle(\"\")\n",
    "axs[0][0].hist(bins[:-1], bins, weights=counts, log=True)\n",
    "axs[0][0].set_title(\"Version Count of F-Droid Apps\")\n",
    "axs[0][0].set_xlabel(\"Number of Versions\")\n",
    "axs[0][0].set_ylabel(\"Number of Apps\")\n",
    "\n",
    "counts,bins = np.histogram(lastUpdateList)\n",
    "axs[0][1].hist(bins[:-1],bins,weights=counts,log=True)\n",
    "axs[0][1].set_title(\"Time since last update count\")\n",
    "axs[0][1].set_xlabel(\"Years since last update\")\n",
    "\n",
    "counts,bins = np.histogram(addedSinceList)\n",
    "axs[1][1].hist(bins[:-1], bins,weights=counts,log=True)\n",
    "axs[1][1].set_title(\"Time since added\")\n",
    "axs[1][1].set_xlabel(\"Years since added\")\n",
    "\n"
   ],
   "metadata": {
    "collapsed": false
   }
  },
  {
   "cell_type": "code",
   "execution_count": 7,
   "outputs": [
    {
     "data": {
      "text/plain": "'at.bitfire.davdroid'"
     },
     "execution_count": 7,
     "metadata": {},
     "output_type": "execute_result"
    }
   ],
   "source": [
    "len(selected)\n",
    "selectedKeys = [k[0] for k in selected]\n",
    "selectedKeys[0]"
   ],
   "metadata": {
    "collapsed": false
   }
  },
  {
   "cell_type": "code",
   "execution_count": 8,
   "outputs": [],
   "source": [
    "#with open('fdroid_updatedLast2Yrs_addedOver8YrsAgo', 'w') as f:\n",
    "#  f.write('\\n'.join([s[0] for s in selected]))"
   ],
   "metadata": {
    "collapsed": false
   }
  },
  {
   "cell_type": "code",
   "execution_count": null,
   "outputs": [
    {
     "name": "stdout",
     "output_type": "stream",
     "text": [
      "No s3 profile found, using local storage.\n",
      "Retrieving at.bitfire.davdroid\n",
      "Retrieving at.tomtasche.reader\n",
      "Retrieving be.digitalia.fosdem\n",
      "Retrieving ca.farrelltonsolar.classic\n",
      "Retrieving ch.blinkenlights.android.vanilla\n",
      "Retrieving ch.hgdev.toposuite\n",
      "Retrieving com.MarcosDiez.shareviahttp\n",
      "Retrieving com.aaronjwood.portauthority\n",
      "Retrieving com.adonai.manman\n",
      "Retrieving com.alexkang.loopboard\n",
      "Retrieving com.android.keepass\n"
     ]
    }
   ],
   "source": [
    "# Download them\n",
    "import main\n",
    "import importlib\n",
    "importlib.reload(main)\n",
    "outDir =\"/Users/shawnmeier/Documents/data/fdroid_updatedLast2Yrs_addedOver8YrsAgo\"\n",
    "main.downloadPackages(selectedKeys, 15, outDir)"
   ],
   "metadata": {
    "collapsed": false,
    "pycharm": {
     "is_executing": true
    }
   }
  },
  {
   "cell_type": "code",
   "execution_count": null,
   "outputs": [],
   "source": [],
   "metadata": {
    "collapsed": false
   }
  }
 ],
 "metadata": {
  "kernelspec": {
   "display_name": "Python 3",
   "language": "python",
   "name": "python3"
  },
  "language_info": {
   "codemirror_mode": {
    "name": "ipython",
    "version": 2
   },
   "file_extension": ".py",
   "mimetype": "text/x-python",
   "name": "python",
   "nbconvert_exporter": "python",
   "pygments_lexer": "ipython2",
   "version": "2.7.6"
  }
 },
 "nbformat": 4,
 "nbformat_minor": 0
}
